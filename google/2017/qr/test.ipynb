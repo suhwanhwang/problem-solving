{
 "cells": [
  {
   "cell_type": "code",
   "execution_count": 3,
   "metadata": {
    "collapsed": false,
    "deletable": true,
    "editable": true
   },
   "outputs": [
    {
     "name": "stdout",
     "output_type": "stream",
     "text": [
      "3\n",
      "1 3\n",
      "Case #1: 4 3\n",
      "3 4\n",
      "Case #2: 7 12\n",
      "5 6\n",
      "Case #3: 11 30\n"
     ]
    }
   ],
   "source": [
    "# input() reads a string with a line of input, stripping the '\\n' (newline) at the end.\n",
    "# This is all you need for most Google Code Jam problems.\n",
    "t = int(input())  # read a line with a single integer\n",
    "for i in range(1, t + 1):\n",
    "  n, m = [int(s) for s in input().split(\" \")]  # read a list of integers, 2 in this case\n",
    "  print(\"Case #{}: {} {}\".format(i, n + m, n * m))\n",
    "  # check out .format's specification for more formatting options"
   ]
  },
  {
   "cell_type": "code",
   "execution_count": 4,
   "metadata": {
    "collapsed": false,
    "deletable": true,
    "editable": true
   },
   "outputs": [
    {
     "data": {
      "text/plain": [
       "384"
      ]
     },
     "execution_count": 4,
     "metadata": {},
     "output_type": "execute_result"
    }
   ],
   "source": [
    "128 * 3 "
   ]
  },
  {
   "cell_type": "code",
   "execution_count": 9,
   "metadata": {
    "collapsed": false
   },
   "outputs": [
    {
     "name": "stdout",
     "output_type": "stream",
     "text": [
      "100\n",
      "100 1\n",
      "100 2\n",
      "100 3\n",
      "100 4\n",
      "100 5\n",
      "100 6\n",
      "100 7\n",
      "100 8\n",
      "100 9\n",
      "100 10\n",
      "100 11\n",
      "100 12\n",
      "100 13\n",
      "100 14\n",
      "100 15\n",
      "100 16\n",
      "100 17\n",
      "100 18\n",
      "100 19\n",
      "100 20\n",
      "100 21\n",
      "100 22\n",
      "100 23\n",
      "100 24\n",
      "100 25\n",
      "100 26\n",
      "100 27\n",
      "100 28\n",
      "100 29\n",
      "100 30\n",
      "100 31\n",
      "100 32\n",
      "100 33\n",
      "100 34\n",
      "100 35\n",
      "100 36\n",
      "100 37\n",
      "100 38\n",
      "100 39\n",
      "100 40\n",
      "100 41\n",
      "100 42\n",
      "100 43\n",
      "100 44\n",
      "100 45\n",
      "100 46\n",
      "100 47\n",
      "100 48\n",
      "100 49\n",
      "100 50\n",
      "100 51\n",
      "100 52\n",
      "100 53\n",
      "100 54\n",
      "100 55\n",
      "100 56\n",
      "100 57\n",
      "100 58\n",
      "100 59\n",
      "100 60\n",
      "100 61\n",
      "100 62\n",
      "100 63\n",
      "100 64\n",
      "100 65\n",
      "100 66\n",
      "100 67\n",
      "100 68\n",
      "100 69\n",
      "100 70\n",
      "100 71\n",
      "100 72\n",
      "100 73\n",
      "100 74\n",
      "100 75\n",
      "100 76\n",
      "100 77\n",
      "100 78\n",
      "100 79\n",
      "100 80\n",
      "100 81\n",
      "100 82\n",
      "100 83\n",
      "100 84\n",
      "100 85\n",
      "100 86\n",
      "100 87\n",
      "100 88\n",
      "100 89\n",
      "100 90\n",
      "100 91\n",
      "100 92\n",
      "100 93\n",
      "100 94\n",
      "100 95\n",
      "100 96\n",
      "100 97\n",
      "100 98\n",
      "100 99\n",
      "100 100\n"
     ]
    }
   ],
   "source": [
    "print(\"100\")\n",
    "for i in range(1, 100 + 1):\n",
    "    print(\"100 \" + str(i))\n",
    "    \n"
   ]
  },
  {
   "cell_type": "code",
   "execution_count": 25,
   "metadata": {
    "collapsed": false
   },
   "outputs": [
    {
     "name": "stdout",
     "output_type": "stream",
     "text": [
      "13\n",
      "6\n",
      "3\n",
      "1\n",
      "[1, 3, 6, 13]\n",
      "[1, 1, 0, 1]\n",
      "49\n",
      "24\n",
      "11\n"
     ]
    }
   ],
   "source": [
    "n = 100\n",
    "k = 13\n",
    "st = []\n",
    "\n",
    "while k > 0:\n",
    "    print(k)\n",
    "    st.insert(0, k)\n",
    "    k >>= 1\n",
    "    \n",
    "print(st)\n",
    "print(st2)\n",
    "prev = n;\n",
    "for i in range(len(st) - 1):\n",
    "    cur = (prev - 1) >> 1;\n",
    "    if (st[i + 1] == st[i] * 2):\n",
    "        cur += ((prev - 1) & 0x01)\n",
    "    print(cur)\n",
    "    prev = cur\n",
    "    \n"
   ]
  },
  {
   "cell_type": "code",
   "execution_count": null,
   "metadata": {
    "collapsed": true
   },
   "outputs": [],
   "source": [
    "500000 250000"
   ]
  },
  {
   "cell_type": "code",
   "execution_count": 31,
   "metadata": {
    "collapsed": false
   },
   "outputs": [
    {
     "data": {
      "text/plain": [
       "262144"
      ]
     },
     "execution_count": 31,
     "metadata": {},
     "output_type": "execute_result"
    }
   ],
   "source": [
    "2**18"
   ]
  },
  {
   "cell_type": "code",
   "execution_count": null,
   "metadata": {
    "collapsed": true
   },
   "outputs": [],
   "source": []
  }
 ],
 "metadata": {
  "kernelspec": {
   "display_name": "Python 3",
   "language": "python",
   "name": "python3"
  },
  "language_info": {
   "codemirror_mode": {
    "name": "ipython",
    "version": 3
   },
   "file_extension": ".py",
   "mimetype": "text/x-python",
   "name": "python",
   "nbconvert_exporter": "python",
   "pygments_lexer": "ipython3",
   "version": "3.5.3"
  }
 },
 "nbformat": 4,
 "nbformat_minor": 2
}
