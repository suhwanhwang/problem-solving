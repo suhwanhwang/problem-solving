{
 "cells": [
  {
   "cell_type": "code",
   "execution_count": 3,
   "metadata": {
    "collapsed": false,
    "deletable": true,
    "editable": true
   },
   "outputs": [
    {
     "name": "stdout",
     "output_type": "stream",
     "text": [
      "3\n",
      "1 3\n",
      "Case #1: 4 3\n",
      "3 4\n",
      "Case #2: 7 12\n",
      "5 6\n",
      "Case #3: 11 30\n"
     ]
    }
   ],
   "source": [
    "# input() reads a string with a line of input, stripping the '\\n' (newline) at the end.\n",
    "# This is all you need for most Google Code Jam problems.\n",
    "t = int(input())  # read a line with a single integer\n",
    "for i in range(1, t + 1):\n",
    "  n, m = [int(s) for s in input().split(\" \")]  # read a list of integers, 2 in this case\n",
    "  print(\"Case #{}: {} {}\".format(i, n + m, n * m))\n",
    "  # check out .format's specification for more formatting options"
   ]
  },
  {
   "cell_type": "code",
   "execution_count": 4,
   "metadata": {
    "collapsed": false,
    "deletable": true,
    "editable": true
   },
   "outputs": [
    {
     "data": {
      "text/plain": [
       "384"
      ]
     },
     "execution_count": 4,
     "metadata": {},
     "output_type": "execute_result"
    }
   ],
   "source": [
    "128 * 3 "
   ]
  },
  {
   "cell_type": "code",
   "execution_count": 8,
   "metadata": {
    "collapsed": false
   },
   "outputs": [
    {
     "name": "stdout",
     "output_type": "stream",
     "text": [
      "64\n",
      "64 1\n",
      "64 2\n",
      "64 3\n",
      "64 4\n",
      "64 5\n",
      "64 6\n",
      "64 7\n",
      "64 8\n",
      "64 9\n",
      "64 10\n",
      "64 11\n",
      "64 12\n",
      "64 13\n",
      "64 14\n",
      "64 15\n",
      "64 16\n",
      "64 17\n",
      "64 18\n",
      "64 19\n",
      "64 20\n",
      "64 21\n",
      "64 22\n",
      "64 23\n",
      "64 24\n",
      "64 25\n",
      "64 26\n",
      "64 27\n",
      "64 28\n",
      "64 29\n",
      "64 30\n",
      "64 31\n",
      "64 32\n",
      "64 33\n",
      "64 34\n",
      "64 35\n",
      "64 36\n",
      "64 37\n",
      "64 38\n",
      "64 39\n",
      "64 40\n",
      "64 41\n",
      "64 42\n",
      "64 43\n",
      "64 44\n",
      "64 45\n",
      "64 46\n",
      "64 47\n",
      "64 48\n",
      "64 49\n",
      "64 50\n",
      "64 51\n",
      "64 52\n",
      "64 53\n",
      "64 54\n",
      "64 55\n",
      "64 56\n",
      "64 57\n",
      "64 58\n",
      "64 59\n",
      "64 60\n",
      "64 61\n",
      "64 62\n",
      "64 63\n",
      "64 64\n"
     ]
    }
   ],
   "source": [
    "print(\"100\")\n",
    "for i in range(1, 100 + 1):\n",
    "    print(\"100 \" + str(i))\n",
    "    \n"
   ]
  },
  {
   "cell_type": "code",
   "execution_count": null,
   "metadata": {
    "collapsed": true
   },
   "outputs": [],
   "source": []
  }
 ],
 "metadata": {
  "kernelspec": {
   "display_name": "Python 3",
   "language": "python",
   "name": "python3"
  },
  "language_info": {
   "codemirror_mode": {
    "name": "ipython",
    "version": 3
   },
   "file_extension": ".py",
   "mimetype": "text/x-python",
   "name": "python",
   "nbconvert_exporter": "python",
   "pygments_lexer": "ipython3",
   "version": "3.5.3"
  }
 },
 "nbformat": 4,
 "nbformat_minor": 2
}
